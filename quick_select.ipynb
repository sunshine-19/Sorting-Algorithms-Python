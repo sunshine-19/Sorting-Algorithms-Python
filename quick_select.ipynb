{
  "nbformat": 4,
  "nbformat_minor": 0,
  "metadata": {
    "colab": {
      "name": "quick_select.ipynb",
      "provenance": []
    },
    "kernelspec": {
      "name": "python3",
      "display_name": "Python 3"
    },
    "language_info": {
      "name": "python"
    }
  },
  "cells": [
    {
      "cell_type": "markdown",
      "source": [
        "## Quick Select"
      ],
      "metadata": {
        "id": "1uKDKmXMMkDf"
      }
    },
    {
      "cell_type": "code",
      "execution_count": 1,
      "metadata": {
        "id": "n7oSWr9vK64R"
      },
      "outputs": [],
      "source": [
        "# Quick Select\n",
        "\n",
        "def partition(arr, l, r):\n",
        "\t\n",
        "\tx = arr[r]\n",
        "\ti = l\n",
        "\tfor j in range(l, r):\n",
        "\t\t\n",
        "\t\tif arr[j] <= x:\n",
        "\t\t\tarr[i], arr[j] = arr[j], arr[i]\n",
        "\t\t\ti += 1\n",
        "\t\t\t\n",
        "\tarr[i], arr[r] = arr[r], arr[i]\n",
        "\treturn i\n",
        "\n",
        "def kthSmallest(arr, l, r, k):\n",
        "\n",
        "\t# if k is smaller than number of\n",
        "\t# elements in array\n",
        "\tif (k > 0 and k <= r - l + 1):\n",
        "\n",
        "\t\t# Partition the array around last\n",
        "\t\t# element and get position of pivot\n",
        "\t\t# element in sorted array\n",
        "\t\tindex = partition(arr, l, r)\n",
        "\n",
        "\t\t# if position is same as k\n",
        "\t\tif (index - l == k - 1):\n",
        "\t\t\treturn arr[index]\n",
        "\n",
        "\t\t# If position is more, recur\n",
        "\t\t# for left subarray\n",
        "\t\tif (index - l > k - 1):\n",
        "\t\t\treturn kthSmallest(arr, l, index - 1, k)\n",
        "\n",
        "\t\t# Else recur for right subarray\n",
        "\t\treturn kthSmallest(arr, index + 1, r,\n",
        "\t\t\t\t\t\t\tk - index + l - 1)\n",
        "\tprint(\"Index out of bound\")\n",
        "\n"
      ]
    },
    {
      "cell_type": "code",
      "source": [
        "arr = [ 10, 4, 5, 8, 6, 11, 26 ]\n",
        "k = 3\n",
        "print(\"K-th smallest element is \", end = \"\")\n",
        "print(kthSmallest(arr, 0, len(arr) - 1, k))"
      ],
      "metadata": {
        "colab": {
          "base_uri": "https://localhost:8080/"
        },
        "id": "ViYi89XPLlkj",
        "outputId": "6b7d462a-4b81-42c9-f14c-aa349c5042de"
      },
      "execution_count": 2,
      "outputs": [
        {
          "output_type": "stream",
          "name": "stdout",
          "text": [
            "K-th smallest element is 6\n"
          ]
        }
      ]
    }
  ]
}