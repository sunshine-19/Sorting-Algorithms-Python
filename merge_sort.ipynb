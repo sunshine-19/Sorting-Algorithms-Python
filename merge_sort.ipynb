{
  "nbformat": 4,
  "nbformat_minor": 0,
  "metadata": {
    "colab": {
      "name": "merge_sort.ipynb",
      "provenance": []
    },
    "kernelspec": {
      "name": "python3",
      "display_name": "Python 3"
    },
    "language_info": {
      "name": "python"
    }
  },
  "cells": [
    {
      "cell_type": "markdown",
      "source": [
        "## Merge Sort Algorithm\n",
        "\n",
        "Merge sort is a sorting technique based on divide and conquer technique. With worst-case time complexity being Ο(n log n), it is one of the most respected algorithms. Merge sort first divides the array into equal halves and then combines them in a sorted manner."
      ],
      "metadata": {
        "id": "HnZfm_xBBC9j"
      }
    },
    {
      "cell_type": "code",
      "execution_count": 1,
      "metadata": {
        "id": "86KcY-EfA5kZ"
      },
      "outputs": [],
      "source": [
        "# MergeSort in Python\n",
        "\n",
        "\n",
        "def mergeSort(data):\n",
        "    if len(data) > 1:\n",
        "\n",
        "        #  r is the point where the array is divided into two subarrays\n",
        "        r = len(data)//2\n",
        "        L = data[:r]\n",
        "        M = data[r:]\n",
        "\n",
        "        # Sort the two halves\n",
        "        mergeSort(L)\n",
        "        mergeSort(M)\n",
        "\n",
        "        i = j = k = 0\n",
        "\n",
        "        # Until we reach either end of either L or M, pick larger among\n",
        "        # elements L and M and place them in the correct position at A[p..r]\n",
        "        while i < len(L) and j < len(M):\n",
        "            if L[i] < M[j]:\n",
        "                data[k] = L[i]\n",
        "                i += 1\n",
        "            else:\n",
        "                data[k] = M[j]\n",
        "                j += 1\n",
        "            k += 1\n",
        "\n",
        "        # When we run out of elements in either L or M,\n",
        "        # pick up the remaining elements and put in A[p..r]\n",
        "        while i < len(L):\n",
        "            data[k] = L[i]\n",
        "            i += 1\n",
        "            k += 1\n",
        "\n",
        "        while j < len(M):\n",
        "            data[k] = M[j]\n",
        "            j += 1\n",
        "            k += 1\n"
      ]
    },
    {
      "cell_type": "code",
      "source": [
        "data = [0, -9, 6, 5, 12, 10, 9, 1]\n",
        "mergeSort(data)\n",
        "print(data)"
      ],
      "metadata": {
        "colab": {
          "base_uri": "https://localhost:8080/"
        },
        "id": "0iHZ03DVBuf-",
        "outputId": "b6d2c578-5123-4ef6-d888-056410b06445"
      },
      "execution_count": 3,
      "outputs": [
        {
          "output_type": "stream",
          "name": "stdout",
          "text": [
            "[-9, 0, 1, 5, 6, 9, 10, 12]\n"
          ]
        }
      ]
    }
  ]
}