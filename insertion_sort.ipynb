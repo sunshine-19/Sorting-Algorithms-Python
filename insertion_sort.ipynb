{
  "nbformat": 4,
  "nbformat_minor": 0,
  "metadata": {
    "colab": {
      "name": "insertion_sort.ipynb",
      "provenance": []
    },
    "kernelspec": {
      "name": "python3",
      "display_name": "Python 3"
    },
    "language_info": {
      "name": "python"
    }
  },
  "cells": [
    {
      "cell_type": "markdown",
      "source": [
        "## Insertion Sort\n",
        "Insertion sort is a sorting algorithm that places an unsorted element at its suitable place in each iteration."
      ],
      "metadata": {
        "id": "or1q1WOl-shi"
      }
    },
    {
      "cell_type": "markdown",
      "source": [
        "Example (source- CLRS) - Insertion sort works similarly as we sort cards in our hand in a card game.\n",
        "\n",
        "We assume that the first card is already sorted then, we select an unsorted card. If the unsorted card is greater than the card in hand, it is placed on the right otherwise, to the left. In the same way, other unsorted cards are taken and put in their right place.\n",
        "\n",
        "A similar approach is used by insertion sort."
      ],
      "metadata": {
        "id": "Ge82xkkc-27X"
      }
    },
    {
      "cell_type": "code",
      "execution_count": 1,
      "metadata": {
        "id": "95wNyOtg-NKl"
      },
      "outputs": [],
      "source": [
        "# Insertion sort in Python\n",
        "\n",
        "\n",
        "def insertionSort(array):\n",
        "\n",
        "    for step in range(1, len(array)):\n",
        "        key = array[step]\n",
        "        j = step - 1\n",
        "        \n",
        "        # Compare key with each element on the left of it until an element smaller than it is found\n",
        "        # For descending order, change key<array[j] to key>array[j].        \n",
        "        while j >= 0 and key < array[j]:\n",
        "            array[j + 1] = array[j]\n",
        "            j = j - 1\n",
        "        \n",
        "        # Place key at after the element just smaller than it.\n",
        "        array[j + 1] = key\n"
      ]
    },
    {
      "cell_type": "code",
      "source": [
        "data = [9, -2, 5, 1, 4, 3, -6]\n",
        "insertionSort(data)\n",
        "print('Sorted Array in Ascending Order:')\n",
        "print(data)"
      ],
      "metadata": {
        "colab": {
          "base_uri": "https://localhost:8080/"
        },
        "id": "L8Tu5qhw-pfA",
        "outputId": "527cb550-ec0a-4971-c695-df3980cb1e40"
      },
      "execution_count": 3,
      "outputs": [
        {
          "output_type": "stream",
          "name": "stdout",
          "text": [
            "Sorted Array in Ascending Order:\n",
            "[-6, -2, 1, 3, 4, 5, 9]\n"
          ]
        }
      ]
    }
  ]
}