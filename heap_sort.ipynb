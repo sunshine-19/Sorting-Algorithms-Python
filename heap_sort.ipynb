{
  "nbformat": 4,
  "nbformat_minor": 0,
  "metadata": {
    "colab": {
      "name": "heap_sort.ipynb",
      "provenance": []
    },
    "kernelspec": {
      "name": "python3",
      "display_name": "Python 3"
    },
    "language_info": {
      "name": "python"
    }
  },
  "cells": [
    {
      "cell_type": "markdown",
      "source": [
        "## Heap Sort Algorithm\n",
        "\n",
        "Working of Heap Sort\n",
        "1. Since the tree satisfies Max-Heap property, then the largest item is stored at the root node.\n",
        "2. Swap: Remove the root element and put at the end of the array (nth position) Put the last item of the tree (heap) at the vacant place.\n",
        "3. Remove: Reduce the size of the heap by 1.\n",
        "4. Heapify: Heapify the root element again so that we have the highest element at root.\n",
        "5. The process is repeated until all the items of the list are sorted."
      ],
      "metadata": {
        "id": "2c0l1oqkIrNw"
      }
    },
    {
      "cell_type": "code",
      "source": [
        "# Heap Sort in python\n",
        "\n",
        "\n",
        "def heapify(arr, n, i):\n",
        "    # Find largest among root and children\n",
        "    largest = i\n",
        "    l = 2 * i + 1\n",
        "    r = 2 * i + 2\n",
        "  \n",
        "    if l < n and arr[i] < arr[l]:\n",
        "        largest = l\n",
        "  \n",
        "    if r < n and arr[largest] < arr[r]:\n",
        "        largest = r\n",
        "  \n",
        "    # If root is not largest, swap with largest and continue heapifying\n",
        "    if largest != i:\n",
        "        arr[i], arr[largest] = arr[largest], arr[i]\n",
        "        heapify(arr, n, largest)\n",
        "  \n",
        "  \n",
        "def heapSort(arr):\n",
        "    n = len(arr)\n",
        "  \n",
        "    # Build max heap\n",
        "    for i in range(n//2, -1, -1):\n",
        "        heapify(arr, n, i)\n",
        "  \n",
        "    for i in range(n-1, 0, -1):\n",
        "        # Swap\n",
        "        arr[i], arr[0] = arr[0], arr[i]\n",
        "  \n",
        "        # Heapify root element\n",
        "        heapify(arr, i, 0)"
      ],
      "metadata": {
        "id": "yz9mMMtWIfoE"
      },
      "execution_count": 2,
      "outputs": []
    },
    {
      "cell_type": "code",
      "source": [
        "arr = [0, -3, 1, 12, 9, 5, 6, 10]\n",
        "heapSort(arr)\n",
        "n = len(arr)\n",
        "print(\"Sorted array is\")\n",
        "for i in range(n):\n",
        "    print(\"%d \" % arr[i], end='')"
      ],
      "metadata": {
        "colab": {
          "base_uri": "https://localhost:8080/"
        },
        "id": "RhkV9g9IIn0f",
        "outputId": "d5805739-1314-4ed2-b97e-951abc4dfb03"
      },
      "execution_count": 5,
      "outputs": [
        {
          "output_type": "stream",
          "name": "stdout",
          "text": [
            "Sorted array is\n",
            "-3 0 1 5 6 9 10 12 "
          ]
        }
      ]
    }
  ]
}