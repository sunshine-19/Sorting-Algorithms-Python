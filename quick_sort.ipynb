{
  "nbformat": 4,
  "nbformat_minor": 0,
  "metadata": {
    "colab": {
      "name": "quick_sort.ipynb",
      "provenance": []
    },
    "kernelspec": {
      "name": "python3",
      "display_name": "Python 3"
    },
    "language_info": {
      "name": "python"
    }
  },
  "cells": [
    {
      "cell_type": "markdown",
      "source": [
        "## Quicksort Alogorithm\n",
        "\n",
        "Quicksort is a sorting algorithm based on the divide and conquer approach where an array is divided into subarrays by selecting a pivot element (element selected from the array).\n",
        "\n",
        "1. While dividing the array, the pivot element should be positioned in such a way that elements less than pivot are kept on the left side and elements greater than pivot are on the right side of the pivot.\n",
        "2. The left and right subarrays are also divided using the same approach. This process continues until each subarray contains a single element.\n",
        "3. At this point, elements are already sorted. Finally, elements are combined to form a sorted array."
      ],
      "metadata": {
        "id": "VZMtQ7BhG8Xb"
      }
    },
    {
      "cell_type": "code",
      "execution_count": 1,
      "metadata": {
        "id": "OcXA4BShG7iy"
      },
      "outputs": [],
      "source": [
        "# Quick sort in Python\n",
        "\n",
        "# function to find the partition position\n",
        "def partition(array, low, high):\n",
        "\n",
        "  # choose the rightmost element as pivot\n",
        "  pivot = array[high]\n",
        "\n",
        "  # pointer for greater element\n",
        "  i = low - 1\n",
        "\n",
        "  # traverse through all elements\n",
        "  # compare each element with pivot\n",
        "  for j in range(low, high):\n",
        "    if array[j] <= pivot:\n",
        "      # if element smaller than pivot is found\n",
        "      # swap it with the greater element pointed by i\n",
        "      i = i + 1\n",
        "\n",
        "      # swapping element at i with element at j\n",
        "      (array[i], array[j]) = (array[j], array[i])\n",
        "\n",
        "  # swap the pivot element with the greater element specified by i\n",
        "  (array[i + 1], array[high]) = (array[high], array[i + 1])\n",
        "\n",
        "  # return the position from where partition is done\n",
        "  return i + 1\n",
        "\n",
        "# function to perform quicksort\n",
        "def quickSort(array, low, high):\n",
        "  if low < high:\n",
        "\n",
        "    # find pivot element such that\n",
        "    # element smaller than pivot are on the left\n",
        "    # element greater than pivot are on the right\n",
        "    pi = partition(array, low, high)\n",
        "\n",
        "    # recursive call on the left of pivot\n",
        "    quickSort(array, low, pi - 1)\n",
        "\n",
        "    # recursive call on the right of pivot\n",
        "    quickSort(array, pi + 1, high)\n"
      ]
    },
    {
      "cell_type": "code",
      "source": [
        "data = [-9, 32, 8, 7, 2, 1, 0, 9, 6, -55]\n",
        "print(\"Unsorted Array\")\n",
        "print(data)\n",
        "\n",
        "quickSort(data, 0, len(data) - 1)\n",
        "\n",
        "print('Sorted Array in Ascending Order:')\n",
        "print(data)"
      ],
      "metadata": {
        "colab": {
          "base_uri": "https://localhost:8080/"
        },
        "id": "YdCgZKr6HhaA",
        "outputId": "1c99592f-95c9-42d2-d081-81c3ca00cce1"
      },
      "execution_count": 3,
      "outputs": [
        {
          "output_type": "stream",
          "name": "stdout",
          "text": [
            "Unsorted Array\n",
            "[-9, 32, 8, 7, 2, 1, 0, 9, 6, -55]\n",
            "Sorted Array in Ascending Order:\n",
            "[-55, -9, 0, 1, 2, 6, 7, 8, 9, 32]\n"
          ]
        }
      ]
    }
  ]
}