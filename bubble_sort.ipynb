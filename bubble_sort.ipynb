{
  "nbformat": 4,
  "nbformat_minor": 0,
  "metadata": {
    "colab": {
      "name": "bubble_sort.ipynb",
      "provenance": []
    },
    "kernelspec": {
      "name": "python3",
      "display_name": "Python 3"
    },
    "language_info": {
      "name": "python"
    }
  },
  "cells": [
    {
      "cell_type": "markdown",
      "source": [
        "#Bubble Sort\n",
        "Bubble sort is a sorting algorithm that compares two adjacent elements and swaps them until they are not in the intended order.\n",
        "\n",
        "Just like the movement of air bubbles in the water that rise up to the surface, each element of the array move to the end in each iteration. Therefore, it is called a bubble sort."
      ],
      "metadata": {
        "id": "7pxO7fnotePR"
      }
    },
    {
      "cell_type": "code",
      "execution_count": 1,
      "metadata": {
        "id": "wagGdgqNstJT"
      },
      "outputs": [],
      "source": [
        "# Bubble sort in Python\n",
        "\n",
        "def bubbleSort(array):\n",
        "    \n",
        "  # loop to access each array element\n",
        "  for i in range(len(array)):\n",
        "\n",
        "    # loop to compare array elements\n",
        "    for j in range(0, len(array) - i - 1):\n",
        "\n",
        "      # compare two adjacent elements\n",
        "      # change > to < to sort in descending order\n",
        "      if array[j] > array[j + 1]:\n",
        "\n",
        "        # swapping elements if elements\n",
        "        # are not in the intended order\n",
        "        temp = array[j]\n",
        "        array[j] = array[j+1]\n",
        "        array[j+1] = temp\n"
      ]
    },
    {
      "cell_type": "code",
      "source": [
        "data = [16, -2, 45, 0, 11, -9, 32]\n",
        "\n",
        "bubbleSort(data)\n",
        "\n",
        "print('Sorted Array in Ascending Order:')\n",
        "print(data)"
      ],
      "metadata": {
        "colab": {
          "base_uri": "https://localhost:8080/"
        },
        "id": "dohBeaTQtC6X",
        "outputId": "1e8030b2-db02-47bb-b2b5-5e6a9f6fef38"
      },
      "execution_count": 2,
      "outputs": [
        {
          "output_type": "stream",
          "name": "stdout",
          "text": [
            "Sorted Array in Ascending Order:\n",
            "[-9, -2, 0, 11, 16, 32, 45]\n"
          ]
        }
      ]
    },
    {
      "cell_type": "markdown",
      "source": [
        "More optimized approach would be to create an additional variable swap_track with boolean data type."
      ],
      "metadata": {
        "id": "50gm2P9Ttwya"
      }
    },
    {
      "cell_type": "code",
      "source": [
        "# Optimized Bubble sort in Python\n",
        "\n",
        "def optimizedBubbleSort(array):\n",
        "    \n",
        "  # loop through each element of array\n",
        "  for i in range(len(array)):\n",
        "        \n",
        "    # keep track of swapping\n",
        "    swap_track = False\n",
        "    \n",
        "    # loop to compare array elements\n",
        "    for j in range(0, len(array) - i - 1):\n",
        "\n",
        "      # compare two adjacent elements\n",
        "      # change > to < to sort in descending order\n",
        "      if array[j] > array[j + 1]:\n",
        "\n",
        "        # swapping occurs if elements\n",
        "        # are not in the intended order\n",
        "        temp = array[j]\n",
        "        array[j] = array[j+1]\n",
        "        array[j+1] = temp\n",
        "\n",
        "        swap_track = True\n",
        "          \n",
        "    # no swapping means the array is already sorted\n",
        "    # so no need for further comparison\n",
        "    if not swap_track:\n",
        "      break\n"
      ],
      "metadata": {
        "id": "eIEBACbA73Nk"
      },
      "execution_count": 3,
      "outputs": []
    },
    {
      "cell_type": "code",
      "source": [
        "optimizedBubbleSort(data)\n",
        "\n",
        "print('Sorted Array in Ascending Order:')\n",
        "print(data)"
      ],
      "metadata": {
        "colab": {
          "base_uri": "https://localhost:8080/"
        },
        "id": "-80zRaC_8EcL",
        "outputId": "ed700282-b2e7-4533-c3f6-441f8cfda548"
      },
      "execution_count": 4,
      "outputs": [
        {
          "output_type": "stream",
          "name": "stdout",
          "text": [
            "Sorted Array in Ascending Order:\n",
            "[-9, -2, 0, 11, 16, 32, 45]\n"
          ]
        }
      ]
    },
    {
      "cell_type": "code",
      "source": [
        "%timeit bubbleSort(data)\n",
        "%timeit optimizedBubbleSort(data)"
      ],
      "metadata": {
        "colab": {
          "base_uri": "https://localhost:8080/"
        },
        "id": "zImPJNZn8dfF",
        "outputId": "1ba24de9-2817-49c2-d3ea-b00d27b4e715"
      },
      "execution_count": 5,
      "outputs": [
        {
          "output_type": "stream",
          "name": "stdout",
          "text": [
            "100000 loops, best of 5: 5.07 µs per loop\n",
            "1000000 loops, best of 5: 1.42 µs per loop\n"
          ]
        }
      ]
    }
  ]
}